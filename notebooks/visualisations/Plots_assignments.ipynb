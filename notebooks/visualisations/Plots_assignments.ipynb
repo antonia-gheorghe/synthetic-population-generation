{
  "nbformat": 4,
  "nbformat_minor": 0,
  "metadata": {
    "colab": {
      "provenance": []
    },
    "kernelspec": {
      "name": "python3",
      "display_name": "Python 3"
    },
    "language_info": {
      "name": "python"
    }
  },
  "cells": [
    {
      "cell_type": "code",
      "source": [
        "!pip install kaleido\n",
        "import kaleido #required\n",
        "\n",
        "import plotly\n",
        "\n",
        "#now this works:\n",
        "import plotly.graph_objects as go"
      ],
      "metadata": {
        "id": "iSrjTNjHEzQp"
      },
      "execution_count": null,
      "outputs": []
    },
    {
      "cell_type": "code",
      "source": [
        "import re\n",
        "\n",
        "# Define a function to parse religion compliance accuracy\n",
        "def parse_accuracy(category_name, file_path):\n",
        "    accuracy_list = []\n",
        "\n",
        "    # Open the file and read it line by line\n",
        "    with open(file_path, 'r') as file:\n",
        "        for line in file:\n",
        "            # Use regex to search for 'Religion compliance accuracy' followed by a percentage value\n",
        "            match = re.search(r'{} compliance accuracy: (\\d+\\.\\d+)%'.format(category_name), line)\n",
        "            if match:\n",
        "                # Convert the found percentage to a float and append to the list\n",
        "                accuracy = float(match.group(1))\n",
        "                accuracy_list.append(accuracy)\n",
        "\n",
        "    return accuracy_list\n",
        "\n",
        "# Example usage\n",
        "religion_accuracy_list = parse_accuracy('Religion', 'religion.txt')\n",
        "ethnicity_accuracy_list = parse_accuracy('Ethnicity', 'ethnicity.txt')\n",
        "\n",
        "# Output the parsed list\n",
        "print(religion_accuracy_list)\n",
        "print(ethnicity_accuracy_list)\n"
      ],
      "metadata": {
        "id": "anECuFSZB6Ox"
      },
      "execution_count": null,
      "outputs": []
    },
    {
      "cell_type": "code",
      "execution_count": null,
      "metadata": {
        "id": "kdyyJCdg-QPc"
      },
      "outputs": [],
      "source": [
        "import plotly.io as pio\n",
        "\n",
        "def generate_plot(in_list, out_file):\n",
        "  # Mock data for the 10 evaluations\n",
        "  freq = 10\n",
        "  correctly_assigned = in_list[::freq]\n",
        "  incorrectly_assigned = [100 - ca for ca in correctly_assigned]  # Complement of correctly assigned for each bar\n",
        "  evaluations = [x * freq for x in list(range(1, len(correctly_assigned) + 1))] # x-axis values (1 to 10)\n",
        "\n",
        "  # Create the stacked bar chart using Plotly\n",
        "  fig = go.Figure(data=[\n",
        "      go.Bar(name='Correctly Assigned Households', x=evaluations, y=correctly_assigned, marker_color='#1f4e79', text=correctly_assigned, textposition='auto'),\n",
        "      go.Bar(name='Incorrectly Assigned Households', x=evaluations, y=incorrectly_assigned, marker_color='#7eb6e6')\n",
        "  ])\n",
        "\n",
        "  # Add custom horizontal lines (overlaid as shapes)\n",
        "  horizontal_lines = [0, 20, 40, 60, 80, 100]  # Define positions of horizontal lines\n",
        "\n",
        "  # Add shapes for each horizontal line with a more appropriate color\n",
        "  for y in horizontal_lines:\n",
        "      fig.add_shape(type=\"line\", x0=0.5, x1=104.5, y0=y, y1=y,\n",
        "                    line=dict(color=\"#B0BEC5\", width=1))  # Soft gray for the gridlines\n",
        "\n",
        "  # Update layout to match the original chart design\n",
        "  fig.update_layout(\n",
        "      barmode='stack',\n",
        "      # title=dict(text='Household Assignment Evaluation', font=dict(size=22, color='#2c3e50')),\n",
        "      xaxis_title='Epochs',\n",
        "      yaxis_title='Percentage of correctly assigned persons (%)',\n",
        "      legend_title='Assignment Status',\n",
        "      yaxis=dict(range=[0, 100]),  # Ensures the y-axis is from 0 to 1\n",
        "      xaxis=dict(showgrid=False),  # Turn off vertical grid lines\n",
        "      showlegend=False,\n",
        "      plot_bgcolor='rgba(0,0,0,0)',  # Transparent background\n",
        "      title_x=0.5  # Center the title\n",
        "  )\n",
        "\n",
        "  # Show the plot\n",
        "  fig.show()\n",
        "\n",
        "  pio.write_image(fig, out_file)\n",
        "\n",
        "generate_plot(religion_accuracy_list, 'religion.pdf')\n",
        "generate_plot(ethnicity_accuracy_list, 'ethnicity.pdf')\n"
      ]
    }
  ]
}